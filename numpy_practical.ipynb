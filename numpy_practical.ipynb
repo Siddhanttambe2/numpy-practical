{
  "nbformat": 4,
  "nbformat_minor": 0,
  "metadata": {
    "colab": {
      "provenance": []
    },
    "kernelspec": {
      "name": "python3",
      "display_name": "Python 3"
    },
    "language_info": {
      "name": "python"
    }
  },
  "cells": [
    {
      "cell_type": "code",
      "execution_count": 2,
      "metadata": {
        "colab": {
          "base_uri": "https://localhost:8080/"
        },
        "id": "8sG0m3tr5IZG",
        "outputId": "14e8a489-8936-4e86-da82-32d11599ede7"
      },
      "outputs": [
        {
          "output_type": "execute_result",
          "data": {
            "text/plain": [
              "array([[34,  2, 63],\n",
              "       [28, 31, 76],\n",
              "       [ 5, 99,  5]])"
            ]
          },
          "metadata": {},
          "execution_count": 2
        }
      ],
      "source": [
        "import numpy as np\n",
        "#1. Create a 3x3 NumPy Array with Random Integers Between 1 and 100, Then Interchange Rows and Columns\n",
        "a = np.random.randint(1,100,(3,3))\n",
        "a"
      ]
    },
    {
      "cell_type": "code",
      "source": [
        "b = a.transpose()\n",
        "b"
      ],
      "metadata": {
        "colab": {
          "base_uri": "https://localhost:8080/"
        },
        "id": "kdgjN70c5krS",
        "outputId": "93ad0a80-17d2-45a1-cfa2-670f258ec0e5"
      },
      "execution_count": 4,
      "outputs": [
        {
          "output_type": "execute_result",
          "data": {
            "text/plain": [
              "array([[34, 28,  5],\n",
              "       [ 2, 31, 99],\n",
              "       [63, 76,  5]])"
            ]
          },
          "metadata": {},
          "execution_count": 4
        }
      ]
    },
    {
      "cell_type": "code",
      "source": [
        "#2. Generate a 1D NumPy Array with 10 Elements, Reshape into 2x5, Then into 5x2"
      ],
      "metadata": {
        "id": "qZNVZcN66Amz"
      },
      "execution_count": 5,
      "outputs": []
    },
    {
      "cell_type": "code",
      "source": [
        "c = np.arange(46,56)\n",
        "c.reshape(2,5)"
      ],
      "metadata": {
        "colab": {
          "base_uri": "https://localhost:8080/"
        },
        "id": "QVu6SvLa6O1r",
        "outputId": "a154e38e-2412-4a8a-8b4c-98e8b2e6cac4"
      },
      "execution_count": 12,
      "outputs": [
        {
          "output_type": "execute_result",
          "data": {
            "text/plain": [
              "array([[46, 47, 48, 49, 50],\n",
              "       [51, 52, 53, 54, 55]])"
            ]
          },
          "metadata": {},
          "execution_count": 12
        }
      ]
    },
    {
      "cell_type": "code",
      "source": [
        "c.reshape(5,-7)"
      ],
      "metadata": {
        "colab": {
          "base_uri": "https://localhost:8080/"
        },
        "id": "X7YyBNZ96dP3",
        "outputId": "352f1485-0a3c-4a30-c40b-42c5320819c7"
      },
      "execution_count": 13,
      "outputs": [
        {
          "output_type": "execute_result",
          "data": {
            "text/plain": [
              "array([[46, 47],\n",
              "       [48, 49],\n",
              "       [50, 51],\n",
              "       [52, 53],\n",
              "       [54, 55]])"
            ]
          },
          "metadata": {},
          "execution_count": 13
        }
      ]
    },
    {
      "cell_type": "code",
      "source": [
        "#3. Create a 4x4 NumPy Array with Random Float Values, Add a Border of Zeros to Make it 6x6\n",
        "a = np.random.rand(4,4)\n",
        "a"
      ],
      "metadata": {
        "colab": {
          "base_uri": "https://localhost:8080/"
        },
        "id": "DsNJub_L69Nr",
        "outputId": "dd363b4b-f424-4aa7-c06c-2913ea5a2f3c"
      },
      "execution_count": 14,
      "outputs": [
        {
          "output_type": "execute_result",
          "data": {
            "text/plain": [
              "array([[0.445804  , 0.48592089, 0.77497914, 0.43916926],\n",
              "       [0.02570775, 0.17960144, 0.92026183, 0.18856233],\n",
              "       [0.51296239, 0.163728  , 0.23874329, 0.3719121 ],\n",
              "       [0.56364057, 0.63050473, 0.63202801, 0.07450687]])"
            ]
          },
          "metadata": {},
          "execution_count": 14
        }
      ]
    },
    {
      "cell_type": "code",
      "source": [
        "b = np.pad(a, pad_width=1, mode='constant', constant_values=0)"
      ],
      "metadata": {
        "id": "i8f8DPVP7Tkg"
      },
      "execution_count": 15,
      "outputs": []
    },
    {
      "cell_type": "code",
      "source": [
        "b"
      ],
      "metadata": {
        "colab": {
          "base_uri": "https://localhost:8080/"
        },
        "id": "72xQOPpF7eK4",
        "outputId": "b137c70e-344c-408f-e587-5a676053c197"
      },
      "execution_count": 16,
      "outputs": [
        {
          "output_type": "execute_result",
          "data": {
            "text/plain": [
              "array([[0.        , 0.        , 0.        , 0.        , 0.        ,\n",
              "        0.        ],\n",
              "       [0.        , 0.445804  , 0.48592089, 0.77497914, 0.43916926,\n",
              "        0.        ],\n",
              "       [0.        , 0.02570775, 0.17960144, 0.92026183, 0.18856233,\n",
              "        0.        ],\n",
              "       [0.        , 0.51296239, 0.163728  , 0.23874329, 0.3719121 ,\n",
              "        0.        ],\n",
              "       [0.        , 0.56364057, 0.63050473, 0.63202801, 0.07450687,\n",
              "        0.        ],\n",
              "       [0.        , 0.        , 0.        , 0.        , 0.        ,\n",
              "        0.        ]])"
            ]
          },
          "metadata": {},
          "execution_count": 16
        }
      ]
    },
    {
      "cell_type": "code",
      "source": [
        "#4. Create an Array of Integers from 10 to 60 with a Step of 5"
      ],
      "metadata": {
        "id": "wjjdvBig7fUg"
      },
      "execution_count": 17,
      "outputs": []
    },
    {
      "cell_type": "code",
      "source": [
        "a = np.arange(10,60,5)\n",
        "a"
      ],
      "metadata": {
        "colab": {
          "base_uri": "https://localhost:8080/"
        },
        "id": "fSfqXwD6782J",
        "outputId": "1cc115de-9e68-4644-a389-e88c2b0cf2db"
      },
      "execution_count": 18,
      "outputs": [
        {
          "output_type": "execute_result",
          "data": {
            "text/plain": [
              "array([10, 15, 20, 25, 30, 35, 40, 45, 50, 55])"
            ]
          },
          "metadata": {},
          "execution_count": 18
        }
      ]
    },
    {
      "cell_type": "code",
      "source": [],
      "metadata": {
        "id": "8p4_Rjyj8JDj"
      },
      "execution_count": null,
      "outputs": []
    },
    {
      "cell_type": "code",
      "source": [
        "#5. Create a NumPy Array of Strings and Apply Case Transformations"
      ],
      "metadata": {
        "id": "WRP5h0_W7_lx"
      },
      "execution_count": 19,
      "outputs": []
    },
    {
      "cell_type": "code",
      "source": [
        "a = np.array(['python', 'numpy', 'java'])\n",
        "\n",
        "\n",
        "upper_case = np.char.upper(a)\n",
        "lower_case = np.char.lower(a)\n",
        "title_case = np.char.title(a)\n",
        "upper_case, lower_case, title_case"
      ],
      "metadata": {
        "colab": {
          "base_uri": "https://localhost:8080/"
        },
        "id": "pTrIBi198KhZ",
        "outputId": "d6345d35-41cb-4fb5-a28a-fccd7eae03c0"
      },
      "execution_count": 20,
      "outputs": [
        {
          "output_type": "execute_result",
          "data": {
            "text/plain": [
              "(array(['PYTHON', 'NUMPY', 'JAVA'], dtype='<U6'),\n",
              " array(['python', 'numpy', 'java'], dtype='<U6'),\n",
              " array(['Python', 'Numpy', 'Java'], dtype='<U6'))"
            ]
          },
          "metadata": {},
          "execution_count": 20
        }
      ]
    },
    {
      "cell_type": "code",
      "source": [
        "#6. Generate a NumPy Array of Words and Insert a Space Between Each Character"
      ],
      "metadata": {
        "id": "Fxhf9vlO8c6T"
      },
      "execution_count": 21,
      "outputs": []
    },
    {
      "cell_type": "code",
      "source": [
        "a = np.array(['python', 'numpy', 'java'])\n",
        "result = np.char.join(\" \", a)\n",
        "result"
      ],
      "metadata": {
        "colab": {
          "base_uri": "https://localhost:8080/"
        },
        "id": "XvYl7D908siC",
        "outputId": "f8300499-bf13-4f33-b050-ffe44ca57384"
      },
      "execution_count": 22,
      "outputs": [
        {
          "output_type": "execute_result",
          "data": {
            "text/plain": [
              "array(['p y t h o n', 'n u m p y', 'j a v a'], dtype='<U11')"
            ]
          },
          "metadata": {},
          "execution_count": 22
        }
      ]
    },
    {
      "cell_type": "code",
      "source": [
        "#Perform Element-Wise Addition, Subtraction, Multiplication, and Division on Two 2D NumPy Arrays\n",
        "\n",
        "array1 = np.array([[1, 2], [3, 4]])\n",
        "array2 = np.array([[5, 6], [7, 8]])"
      ],
      "metadata": {
        "id": "VsH-Acx68vF-"
      },
      "execution_count": 23,
      "outputs": []
    },
    {
      "cell_type": "code",
      "source": [
        "\n",
        "add = array1 + array2\n",
        "\n",
        "sub = array1 - array2\n",
        "\n",
        "mult = array1 * array2\n",
        "\n",
        "div = array1 / array2"
      ],
      "metadata": {
        "id": "Kct0ge2o9CAK"
      },
      "execution_count": 25,
      "outputs": []
    },
    {
      "cell_type": "code",
      "source": [
        "add,sub,mult,div"
      ],
      "metadata": {
        "colab": {
          "base_uri": "https://localhost:8080/"
        },
        "id": "MlONPjrA9MoW",
        "outputId": "5cd6fd56-31b0-47cf-d07c-94f4ee51ad97"
      },
      "execution_count": 27,
      "outputs": [
        {
          "output_type": "execute_result",
          "data": {
            "text/plain": [
              "(array([[ 6,  8],\n",
              "        [10, 12]]),\n",
              " array([[-4, -4],\n",
              "        [-4, -4]]),\n",
              " array([[ 5, 12],\n",
              "        [21, 32]]),\n",
              " array([[0.2       , 0.33333333],\n",
              "        [0.42857143, 0.5       ]]))"
            ]
          },
          "metadata": {},
          "execution_count": 27
        }
      ]
    },
    {
      "cell_type": "code",
      "source": [
        "#8. Create a 5x5 Identity Matrix and Extract Its Diagonal Elements"
      ],
      "metadata": {
        "id": "fOzou7M99cLD"
      },
      "execution_count": 28,
      "outputs": []
    },
    {
      "cell_type": "code",
      "source": [
        "i = np.eye(5)\n",
        "diagonal_elements = np.diag(i)\n",
        "i,diagonal_elements"
      ],
      "metadata": {
        "colab": {
          "base_uri": "https://localhost:8080/"
        },
        "id": "Glvau49w9xdM",
        "outputId": "f727a900-aab8-4ed6-a21e-3a1a1da1784d"
      },
      "execution_count": 29,
      "outputs": [
        {
          "output_type": "execute_result",
          "data": {
            "text/plain": [
              "(array([[1., 0., 0., 0., 0.],\n",
              "        [0., 1., 0., 0., 0.],\n",
              "        [0., 0., 1., 0., 0.],\n",
              "        [0., 0., 0., 1., 0.],\n",
              "        [0., 0., 0., 0., 1.]]),\n",
              " array([1., 1., 1., 1., 1.]))"
            ]
          },
          "metadata": {},
          "execution_count": 29
        }
      ]
    },
    {
      "cell_type": "code",
      "source": [],
      "metadata": {
        "id": "kT6xRZq0-U9I"
      },
      "execution_count": null,
      "outputs": []
    },
    {
      "cell_type": "code",
      "source": [
        "#9. Generate a NumPy Array of 100 Random Integers Between 0 and 1000 and Find All Prime Numbers"
      ],
      "metadata": {
        "id": "grWdSvaY95eL"
      },
      "execution_count": 30,
      "outputs": []
    },
    {
      "cell_type": "code",
      "source": [
        "\n",
        "random_integers = np.random.randint(0, 1001, size=100)\n",
        "print(\"Array of 100 Random Integers:\\n\", random_integers)\n",
        "\n",
        "def is_prime(num):\n",
        "    if num < 2:\n",
        "        return False\n",
        "    for i in range(2, int(np.sqrt(num)) + 1):\n",
        "        if num % i == 0:\n",
        "            return False\n",
        "    return True\n",
        "\n",
        "prime_numbers = np.array([num for num in random_integers if is_prime(num)])\n",
        "print(\"\\nPrime Numbers in the Array:\\n\", prime_numbers)\n"
      ],
      "metadata": {
        "colab": {
          "base_uri": "https://localhost:8080/"
        },
        "id": "4-kao1N2-Vv_",
        "outputId": "67ba6e2a-6c52-4ab2-e458-2d46ad6d6ee7"
      },
      "execution_count": 31,
      "outputs": [
        {
          "output_type": "stream",
          "name": "stdout",
          "text": [
            "Array of 100 Random Integers:\n",
            " [256 462 162 983 457 995 251  22 885  39 974 789 684 475  34  85 275 999\n",
            " 294   2 772 220 110 397 870 666 646 770 383 116 484 772 670 421 617 395\n",
            " 222 577 418 460 251 762 847 450 564 339  34 278 300  71 324 225 860 581\n",
            " 186 334 381 491  52 985 366 593 779 442  31 191 520 904 365 771 667 204\n",
            "   3 892 284 458 442 835 123 599 521 984 193 561 472  66 376 973 180 179\n",
            " 402 644 797 484 197 621 951 592 292 719]\n",
            "\n",
            "Prime Numbers in the Array:\n",
            " [983 457 251   2 397 383 421 617 577 251  71 491 593  31 191   3 599 521\n",
            " 193 179 797 197 719]\n"
          ]
        }
      ]
    },
    {
      "cell_type": "code",
      "source": [
        "#10. Create a NumPy Array Representing Daily Temperatures for a Month and Calculate Weekly Averages"
      ],
      "metadata": {
        "id": "RA5XQF0b-gEp"
      },
      "execution_count": 32,
      "outputs": []
    },
    {
      "cell_type": "code",
      "source": [
        "daily_temperatures = np.random.randint(20, 35, 30)\n",
        "\n",
        "weekly_averages = []\n",
        "for i in range(0, len(daily_temperatures), 7):\n",
        "  week_temperatures = daily_temperatures[i: i + 7]\n",
        "  weekly_averages.append(np.mean(week_temperatures))\n",
        "\n",
        "weekly_averages = np.array(weekly_averages)\n",
        "daily_temperatures,weekly_averages"
      ],
      "metadata": {
        "colab": {
          "base_uri": "https://localhost:8080/"
        },
        "id": "bqBeWscw-6E1",
        "outputId": "536ca822-d4c4-4495-fb56-6370c236748c"
      },
      "execution_count": 35,
      "outputs": [
        {
          "output_type": "execute_result",
          "data": {
            "text/plain": [
              "(array([22, 32, 31, 29, 33, 21, 33, 26, 29, 24, 24, 32, 28, 22, 24, 22, 28,\n",
              "        32, 22, 27, 28, 20, 24, 23, 29, 27, 30, 34, 33, 25]),\n",
              " array([28.71428571, 26.42857143, 26.14285714, 26.71428571, 29.        ]))"
            ]
          },
          "metadata": {},
          "execution_count": 35
        }
      ]
    },
    {
      "cell_type": "code",
      "source": [],
      "metadata": {
        "id": "N45nab6h--c7"
      },
      "execution_count": null,
      "outputs": []
    }
  ]
}